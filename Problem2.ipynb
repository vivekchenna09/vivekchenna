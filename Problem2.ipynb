{
  "nbformat": 4,
  "nbformat_minor": 0,
  "metadata": {
    "colab": {
      "provenance": []
    },
    "kernelspec": {
      "name": "python3",
      "display_name": "Python 3"
    },
    "language_info": {
      "name": "python"
    }
  },
  "cells": [
    {
      "cell_type": "markdown",
      "source": [
        "#**2. Read the file mobydick.txt as a full string. Use the spacy library to tokenize and lemmatize words.**"
      ],
      "metadata": {
        "id": "jJmUY0QpdP25"
      }
    },
    {
      "cell_type": "code",
      "execution_count": 1,
      "metadata": {
        "id": "mJeSudMwdAKI"
      },
      "outputs": [],
      "source": [
        "import spacy\n",
        "\n",
        "# Load the English language model from spaCy\n",
        "nlp = spacy.load(\"en_core_web_sm\")\n",
        "\n",
        "# Read the content of the 'mobydick.txt' file\n",
        "with open('mobydick.txt', 'r', encoding='utf-8') as file:\n",
        "    text = file.read()"
      ]
    },
    {
      "cell_type": "markdown",
      "source": [
        "**(a) Use spaCy to process the file and apply processing steps (lower case, remove stop words, and punctuation marks)**"
      ],
      "metadata": {
        "id": "-7icZJ6JddEd"
      }
    },
    {
      "cell_type": "code",
      "source": [
        "len(text)"
      ],
      "metadata": {
        "colab": {
          "base_uri": "https://localhost:8080/"
        },
        "id": "QsqshoaxdXlH",
        "outputId": "2a9b25ef-02c3-4994-91e2-b38e963eb9bd"
      },
      "execution_count": 2,
      "outputs": [
        {
          "output_type": "execute_result",
          "data": {
            "text/plain": [
              "1210513"
            ]
          },
          "metadata": {},
          "execution_count": 2
        }
      ]
    },
    {
      "cell_type": "code",
      "source": [
        "# Set a higher value for nlp.max_length (adjust as needed)\n",
        "nlp.max_length = 1500000  # You can increase this value based on your text's length"
      ],
      "metadata": {
        "id": "l7dZPyqKdf3j"
      },
      "execution_count": 3,
      "outputs": []
    },
    {
      "cell_type": "markdown",
      "source": [
        "**(b) Extract the list of unique tokens/terms and their frequency, sort, and print**"
      ],
      "metadata": {
        "id": "rmzPZCH-dl7F"
      }
    },
    {
      "cell_type": "code",
      "source": [
        "from collections import Counter\n",
        "import matplotlib.pyplot as plt"
      ],
      "metadata": {
        "id": "sNKiGHwrdiQV"
      },
      "execution_count": 4,
      "outputs": []
    },
    {
      "cell_type": "code",
      "source": [
        "\n",
        "# Use spaCy to process the file and apply processing steps (lower case, remove stop words, and punctuation)\n",
        "def preprocess_text(text):\n",
        "    doc = nlp(text)\n",
        "    processed_tokens = [token.lemma_.lower() for token in doc if not token.is_stop and not token.is_punct]\n",
        "    return processed_tokens\n",
        "\n",
        "processed_tokens = preprocess_text(text)\n",
        "\n",
        "# Count the frequency of each token in the processed_tokens list\n",
        "token_freq = Counter(processed_tokens)\n",
        "\n",
        "# Sort the dictionary by frequencies from largest to smallest\n",
        "sorted_token_freq = dict(sorted(token_freq.items(), key=lambda item: item[1], reverse=True))\n",
        "\n",
        "# Calculate the total number of terms\n",
        "total_terms = len(processed_tokens)\n",
        "\n",
        "# Print the total number of terms\n",
        "print(\"Total number of terms:\", total_terms)\n",
        "\n",
        "# Print the most frequent 20 terms and their frequencies\n",
        "print(\"\\nMost frequent 20 terms and their frequencies:\")\n",
        "for term, freq in list(sorted_token_freq.items())[:20]:\n",
        "    print(f\"{term}: {freq}\")\n",
        "\n",
        "# Print the least frequent 20 terms and their frequencies\n",
        "print(\"\\nLeast frequent 20 terms and their frequencies:\")\n",
        "for term, freq in list(sorted_token_freq.items())[-20:]:\n",
        "    print(f\"{term}: {freq}\")\n",
        "\n",
        "# Plot the 50 largest frequencies\n",
        "max_length = 50\n",
        "list_words = list(sorted_token_freq.keys())[:max_length]\n",
        "list_words_chopped = [w[:2] for w in list_words]\n",
        "\n",
        "plt.plot(list(sorted_token_freq.values())[:max_length], '.')\n",
        "plt.xticks(ticks=range(min(max_length, len(sorted_token_freq))), labels=list_words_chopped, rotation=90)\n",
        "plt.xlabel(\"Term\")\n",
        "plt.ylabel(\"Frequency\")\n",
        "plt.title(\"Top 50 Term Frequencies\")\n",
        "plt.show()"
      ],
      "metadata": {
        "colab": {
          "base_uri": "https://localhost:8080/",
          "height": 1000
        },
        "id": "g_u0Mz95RiBQ",
        "outputId": "adc415ad-4ad2-4fb9-c7b2-968b2f802938"
      },
      "execution_count": 5,
      "outputs": [
        {
          "output_type": "stream",
          "name": "stdout",
          "text": [
            "Total number of terms: 115065\n",
            "\n",
            "Most frequent 20 terms and their frequencies:\n",
            "\n",
            ": 16036\n",
            "\n",
            "\n",
            ": 2451\n",
            "whale: 1420\n",
            "man: 767\n",
            "like: 642\n",
            "ship: 605\n",
            "sea: 512\n",
            "ahab: 498\n",
            "boat: 470\n",
            "old: 453\n",
            "head: 451\n",
            "time: 444\n",
            "ye: 424\n",
            "come: 397\n",
            "say: 372\n",
            "look: 355\n",
            "long: 354\n",
            "captain: 341\n",
            "hand: 340\n",
            "great: 317\n",
            "\n",
            "Least frequent 20 terms and their frequencies:\n",
            "director: 1\n",
            "gbnewby@pglaf.org: 1\n",
            "widest: 1\n",
            "outdated: 1\n",
            "5,000: 1\n",
            "irs: 1\n",
            "paperwork: 1\n",
            "solicitation: 1\n",
            "prohibition: 1\n",
            "donor: 1\n",
            "international: 1\n",
            "gratefully: 1\n",
            "treatment: 1\n",
            "http://pglaf.org/donate: 1\n",
            "originator: 1\n",
            "network: 1\n",
            "confirm: 1\n",
            "pg: 1\n",
            "http://www.gutenberg.org: 1\n",
            "newsletter: 1\n"
          ]
        },
        {
          "output_type": "display_data",
          "data": {
            "text/plain": [
              "<Figure size 640x480 with 1 Axes>"
            ],
            "image/png": "[encoded data removed]"
          },
          "metadata": {}
        }
      ]
    },
    {
      "cell_type": "markdown",
      "source": [
        "**(c) Comment on what you observe - how the number of tokens changes as you add more processing steps**"
      ],
      "metadata": {
        "id": "WPEEuEnWeIyU"
      }
    },
    {
      "cell_type": "code",
      "source": [
        "#As you add more processing steps, such as converting text to lowercase, removing stop words, and eliminating punctuation marks, the number of tokens (unique terms) typically decreases. This is because these processing steps filter out non-essential words and reduce the dimensionality of the text data"
      ],
      "metadata": {
        "id": "njh4386tdqTp"
      },
      "execution_count": 6,
      "outputs": []
    },
    {
      "cell_type": "code",
      "source": [],
      "metadata": {
        "id": "c7_7E2oueMJr"
      },
      "execution_count": 6,
      "outputs": []
    }
  ]
}